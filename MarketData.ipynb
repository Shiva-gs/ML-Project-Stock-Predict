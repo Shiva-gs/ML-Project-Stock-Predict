{
 "cells": [
  {
   "cell_type": "code",
   "execution_count": 1,
   "metadata": {},
   "outputs": [],
   "source": [
    "# Dependencies\n",
    "import requests\n",
    "import json\n",
    "import pandas as pd\n",
    "import pymongo"
   ]
  },
  {
   "cell_type": "code",
   "execution_count": 2,
   "metadata": {},
   "outputs": [],
   "source": [
    "# The default port used by MongoDB is 27017\n",
    "# https://docs.mongodb.com/manual/reference/default-mongodb-port/\n",
    "conn = 'mongodb://localhost:27017'\n",
    "client = pymongo.MongoClient(conn)\n",
    "db = client.marketdata"
   ]
  },
  {
   "cell_type": "code",
   "execution_count": 3,
   "metadata": {},
   "outputs": [],
   "source": [
    "# Portfolio list and get the string list\n",
    "# read from UI and insert into mongoDB \n",
    "symbol_dict = [{'symbol':'AAPL','active':'Y'},\n",
    "               {'symbol':'TSLA','active':'Y'},\n",
    "               {'symbol':'VOO','active':'Y'},\n",
    "               {'symbol':'BABA','active':'Y'},\n",
    "               {'symbol':'JPM','active':'Y'}]"
   ]
  },
  {
   "cell_type": "code",
   "execution_count": 4,
   "metadata": {},
   "outputs": [
    {
     "name": "stdout",
     "output_type": "stream",
     "text": [
      "0\n"
     ]
    },
    {
     "name": "stderr",
     "output_type": "stream",
     "text": [
      "C:\\Users\\Hunter\\Anaconda3\\lib\\site-packages\\ipykernel_launcher.py:4: DeprecationWarning: count is deprecated. Use estimated_document_count or count_documents instead. Please note that $where must be replaced by $expr, $near must be replaced by $geoWithin with $center, and $nearSphere must be replaced by $geoWithin with $centerSphere\n",
      "  after removing the cwd from sys.path.\n"
     ]
    }
   ],
   "source": [
    "# Insert a document into the 'portfolio' collection\n",
    "# Read existing data from MongoDB\n",
    "portfolio = db.portfolio.find()\n",
    "is_data_found=db.portfolio.count()\n",
    "\n",
    "\n",
    "data = pd.DataFrame(list(portfolio))\n",
    "data\n",
    "print(is_data_found)\n",
    "\n",
    "# from new list above\n",
    "for i in range(len(symbol_dict)):\n",
    "    #print(list_index[i]['symbol'])\n",
    "    cnt=0\n",
    "    # avoid duplicate check if symbol is already active in DB\n",
    "    if is_data_found !=0:\n",
    "        cnt=data[(data['active']==symbol_dict[i]['active']) & (data['symbol']==symbol_dict[i]['symbol'])]['symbol'].count()\n",
    "    else:\n",
    "        # first record\n",
    "        cnt=1\n",
    "        \n",
    "    if (cnt!=0 | is_data_found==0):\n",
    "        db.portfolio.insert_one(symbol_dict[i])"
   ]
  },
  {
   "cell_type": "code",
   "execution_count": 5,
   "metadata": {},
   "outputs": [
    {
     "data": {
      "text/plain": [
       "'AAPL%2CTSLA%2CVOO%2CBABA%2CJPM'"
      ]
     },
     "execution_count": 5,
     "metadata": {},
     "output_type": "execute_result"
    }
   ],
   "source": [
    "symbol_df = pd.DataFrame.from_dict(db.portfolio.find())\n",
    "#symbol_df=symbol_df.append({'symbol':'TSLA','active':'Y'},ignore_index=TRUE)\n",
    "active_symbol= list(symbol_df[symbol_df['active']=='Y']['symbol'])  \n",
    "symbol_str=''\n",
    "for i in range(len(active_symbol)):\n",
    "    if i == len(active_symbol)-1:\n",
    "        symbol_str = symbol_str + active_symbol[i] \n",
    "    else:\n",
    "        symbol_str = symbol_str + active_symbol[i] + '%2C'\n",
    "\n",
    "symbol_str"
   ]
  },
  {
   "cell_type": "code",
   "execution_count": 6,
   "metadata": {},
   "outputs": [],
   "source": [
    "# URL for GET requests to retrieve symbol data\n",
    "# append the active symbol from above list\n",
    "url = \"https://marketdata.websol.barchart.com/getQuote.json?apikey=0b6bf035918d6d5e9f4b803bded9a20f&fields=fiftyTwoWkHigh%2CfiftyTwoWkHighDate%2CfiftyTwoWkLow%2CfiftyTwoWkLowDate%2Ctick&symbols=\"+symbol_str\n",
    "\n"
   ]
  },
  {
   "cell_type": "code",
   "execution_count": 7,
   "metadata": {},
   "outputs": [],
   "source": [
    "# Pretty print JSON for all launchpads\n",
    "response = requests.get(url)\n",
    "response_json = response.json() "
   ]
  },
  {
   "cell_type": "code",
   "execution_count": 8,
   "metadata": {},
   "outputs": [],
   "source": [
    "# rearrange dataset\n",
    "#df[['symbol','close']]\n",
    "#new_df = df[['symbol','name','open','lastPrice','netChange','tradeTimestamp',\n",
    "#             'fiftyTwoWkHigh','fiftyTwoWkHighDate','fiftyTwoWkLow','fiftyTwoWkLowDate','serverTimestamp']]\n",
    "#new_df"
   ]
  },
  {
   "cell_type": "code",
   "execution_count": 9,
   "metadata": {
    "scrolled": true
   },
   "outputs": [
    {
     "name": "stdout",
     "output_type": "stream",
     "text": [
      "0\n"
     ]
    },
    {
     "name": "stderr",
     "output_type": "stream",
     "text": [
      "C:\\Users\\Hunter\\Anaconda3\\lib\\site-packages\\ipykernel_launcher.py:6: DeprecationWarning: count is deprecated. Use estimated_document_count or count_documents instead. Please note that $where must be replaced by $expr, $near must be replaced by $geoWithin with $center, and $nearSphere must be replaced by $geoWithin with $centerSphere\n",
      "  \n"
     ]
    },
    {
     "data": {
      "text/html": [
       "<div>\n",
       "<style scoped>\n",
       "    .dataframe tbody tr th:only-of-type {\n",
       "        vertical-align: middle;\n",
       "    }\n",
       "\n",
       "    .dataframe tbody tr th {\n",
       "        vertical-align: top;\n",
       "    }\n",
       "\n",
       "    .dataframe thead th {\n",
       "        text-align: right;\n",
       "    }\n",
       "</style>\n",
       "<table border=\"1\" class=\"dataframe\">\n",
       "  <thead>\n",
       "    <tr style=\"text-align: right;\">\n",
       "      <th></th>\n",
       "    </tr>\n",
       "  </thead>\n",
       "  <tbody>\n",
       "  </tbody>\n",
       "</table>\n",
       "</div>"
      ],
      "text/plain": [
       "Empty DataFrame\n",
       "Columns: []\n",
       "Index: []"
      ]
     },
     "execution_count": 9,
     "metadata": {},
     "output_type": "execute_result"
    }
   ],
   "source": [
    "# using db = client.marketdata\n",
    "\n",
    "# Query all marketdata\n",
    "# Here, get the daily index price to dataframe\n",
    "index_price = db.index_price.find()\n",
    "is_data_found=db.index_price.count()\n",
    "\n",
    "#list_index=response_json[\"results\"] \n",
    "if is_data_found !=0:\n",
    "    data = pd.DataFrame(list(index_price))\n",
    "    data\n",
    "print(is_data_found)\n",
    "data"
   ]
  },
  {
   "cell_type": "code",
   "execution_count": null,
   "metadata": {},
   "outputs": [],
   "source": []
  },
  {
   "cell_type": "code",
   "execution_count": 10,
   "metadata": {},
   "outputs": [
    {
     "name": "stdout",
     "output_type": "stream",
     "text": [
      "Total number of records in index_list in database is: 5\n"
     ]
    },
    {
     "name": "stderr",
     "output_type": "stream",
     "text": [
      "C:\\Users\\Hunter\\Anaconda3\\lib\\site-packages\\ipykernel_launcher.py:30: DeprecationWarning: count is deprecated. Use estimated_document_count or count_documents instead. Please note that $where must be replaced by $expr, $near must be replaced by $geoWithin with $center, and $nearSphere must be replaced by $geoWithin with $centerSphere\n"
     ]
    }
   ],
   "source": [
    "# Iterate through each indexprice in the collection\n",
    "# insert into DB for index price\n",
    "\n",
    "# Insert a document into the 'indexprice' collection\n",
    "list_index=response_json[\"results\"] \n",
    "#len(list_index)\n",
    "for i in range(len(list_index)):\n",
    "    #print(list_index[i]['symbol'])\n",
    "    cnt=0\n",
    "    #print(list_index[i]['serverTimestamp'])\n",
    "    #print(data['tradeTimestamp']==list_index[i]['tradeTimestamp'])\n",
    "    # avoid duplicate\n",
    "    #if is_data_found !=0:\n",
    "    #    cnt=data[(data['tradeTimestamp']==list_index[i]['tradeTimestamp']) & (data['symbol']==list_index[i]['symbol'])]['symbol'].count()\n",
    "        # if cnt is zero then its a new record\n",
    "        #print(cnt)\n",
    "    #    if (cnt == 0):\n",
    "    #       cnt=1 \n",
    "    #else:\n",
    "        # first record\n",
    "    #    cnt=1\n",
    "        \n",
    "    #if record exists ignore the exception\n",
    "    if (cnt!=0) | (is_data_found==0):\n",
    "        try:\n",
    "            db.index_price.insert_one(list_index[i])\n",
    "        except Exception:\n",
    "            pass\n",
    "    \n",
    "print(\"Total number of records in index_list in database is:\", db.index_price.count())\n",
    "        "
   ]
  },
  {
   "cell_type": "code",
   "execution_count": 11,
   "metadata": {},
   "outputs": [],
   "source": [
    "# Iterate through each symbol in the collection, uncomment the code to see the results\n",
    "#index_price = db.index_price.find()\n",
    "#for ind in index_price:\n",
    "#len(list_index)\n",
    "#print(is_data_found)\n",
    "#list_index[0]['serverTimestamp']\n",
    "#    print(ind)\n",
    "#for i in range(len(index_price)):\n",
    "#    print(index_price[i])\n",
    "\n",
    " "
   ]
  },
  {
   "cell_type": "code",
   "execution_count": 12,
   "metadata": {},
   "outputs": [],
   "source": [
    "# TO populate the history record read through individual symbol and gather the data in list\n",
    "symbol_df = pd.DataFrame.from_dict(db.portfolio.find()) \n",
    "active_symbol=[]\n",
    "active_symbol= list(symbol_df[symbol_df['active']=='Y']['symbol'])  \n",
    "#symbol_str=''\n",
    "\n",
    "hist_list_index=[]\n",
    "hist_index=[]\n",
    "\n",
    "hist_url= \"https://marketdata.websol.barchart.com/getHistory.json?apikey=0b6bf035918d6d5e9f4b803bded9a20f&type=minutes&startDate=20190801&endDate=20191011&maxRecords=100&interval=60&order=asc&sessionFilter=EFK&splits=true&dividends=true&volume=sum&nearby=1&jerq=true&exchange=NYSE%2CAMEX%2CNASDAQ&backAdjust=false&daysToExpiration=1&contractRoll=expiration&symbol=\"\n",
    "\n",
    "for i in range(len(active_symbol)):\n",
    "    hist_response = requests.get(hist_url+active_symbol[i])\n",
    "    #print(hist_url+active_symbol[i])\n",
    "    hist_response_json = hist_response.json()\n",
    "    hist_index = hist_response_json[\"results\"]\n",
    "    for i in range(len(hist_index)):\n",
    "        hist_list_index.append(hist_index[i])\n",
    "\n",
    "\n",
    "\n",
    "#len(hist_list_index)\n",
    "#len(hist_list_index[0])\n",
    "\n",
    "#for i in range(len(hist_list_index)):\n",
    "#    print(hist_list_index[i])"
   ]
  },
  {
   "cell_type": "code",
   "execution_count": 13,
   "metadata": {},
   "outputs": [
    {
     "name": "stderr",
     "output_type": "stream",
     "text": [
      "C:\\Users\\Hunter\\Anaconda3\\lib\\site-packages\\ipykernel_launcher.py:8: DeprecationWarning: count is deprecated. Use estimated_document_count or count_documents instead. Please note that $where must be replaced by $expr, $near must be replaced by $geoWithin with $center, and $nearSphere must be replaced by $geoWithin with $centerSphere\n",
      "  \n"
     ]
    },
    {
     "name": "stdout",
     "output_type": "stream",
     "text": [
      "0\n"
     ]
    }
   ],
   "source": [
    "# Iterate through each history indexprice in the collection\n",
    "# insert into DB for history ndex price\n",
    "\n",
    "# Insert a document into the 'indexprice' collection\n",
    "# Query all marketdata\n",
    "# Here, get the daily index price to dataframe\n",
    "index_price = db.index_price_hist.find()\n",
    "is_data_found=db.index_price_hist.count()\n",
    "\n",
    " \n",
    "data = pd.DataFrame(list(index_price))\n",
    "data\n",
    "print(is_data_found)\n",
    "\n",
    "# use hist_list_index from above\n",
    "for i in range(len(hist_list_index)):\n",
    "    #print(list_index[i])\n",
    "    #db.index_price_hist.insert_one(hist_list_index[i])\n",
    "        #print(list_index[i]['symbol'])\n",
    "    #cnt=0\n",
    "    # avoid duplicate\n",
    "    # check if the symbol and systemTimestamp record is found\n",
    "    #if is_data_found !=0:\n",
    "    #    cnt=data[(data['timestamp']==hist_list_index[i]['timestamp']) & (data['symbol']==hist_list_index[i]['symbol'])]['symbol'].count()\n",
    "    # else:\n",
    "        # first record\n",
    "        # cnt=1\n",
    "        \n",
    "    #if record exists ignore the exception\n",
    "    \n",
    "    try:\n",
    "        db.index_price_hist.insert_one(hist_list_index[i])\n",
    "    except Exception:\n",
    "        pass\n",
    "        \n",
    "    #if (cnt!=0 | is_data_found==0):\n",
    "        #db.index_price_hist.insert_one(hist_list_index[i])"
   ]
  },
  {
   "cell_type": "code",
   "execution_count": 14,
   "metadata": {},
   "outputs": [
    {
     "name": "stderr",
     "output_type": "stream",
     "text": [
      "C:\\Users\\Hunter\\Anaconda3\\lib\\site-packages\\ipykernel_launcher.py:6: DeprecationWarning: count is deprecated. Use estimated_document_count or count_documents instead. Please note that $where must be replaced by $expr, $near must be replaced by $geoWithin with $center, and $nearSphere must be replaced by $geoWithin with $centerSphere\n",
      "  \n"
     ]
    },
    {
     "data": {
      "text/plain": [
       "500"
      ]
     },
     "execution_count": 14,
     "metadata": {},
     "output_type": "execute_result"
    }
   ],
   "source": [
    "# Iterate through each symbol in the collection, uncomment the code to see the results\n",
    "#index_price = db.index_price.find()\n",
    "#index_price = db.index_price_hist.find()\n",
    "#for ind in index_price:\n",
    "#    print(ind)\n",
    "db.index_price_hist.count()"
   ]
  },
  {
   "cell_type": "code",
   "execution_count": 15,
   "metadata": {},
   "outputs": [
    {
     "data": {
      "text/plain": [
       "<bound method DataFrame.to_dict of                         _id   close dayCode exchange  fiftyTwoWkHigh  \\\n",
       "0  5da65d84c5f860143b0538fe  235.55       E   NASDAQ          238.13   \n",
       "1  5da65d84c5f860143b0538ff  257.89       E   NASDAQ          379.49   \n",
       "2  5da65d84c5f860143b053900  274.51       E     AMEX          277.98   \n",
       "3  5da65d84c5f860143b053901  175.29       E     NYSE          195.72   \n",
       "4  5da65d84c5f860143b053902  120.00       E     NYSE          121.59   \n",
       "\n",
       "  fiftyTwoWkHighDate  fiftyTwoWkLow fiftyTwoWkLowDate flag    high  ...  \\\n",
       "0         2019-10-14         142.00        2019-01-03    s  237.65  ...   \n",
       "1         2018-12-07         176.99        2019-06-03    s  260.00  ...   \n",
       "2         2019-09-19         214.83        2018-12-26    s  275.25  ...   \n",
       "3         2019-05-03         129.77        2018-12-24    s  176.75  ...   \n",
       "4         2019-10-15          91.11        2018-12-26    s  121.59  ...   \n",
       "\n",
       "                        name  netChange    open percentChange  \\\n",
       "0                  Apple Inc      -0.32  236.39         -0.14   \n",
       "1                  Tesla Inc       0.93  257.70          0.36   \n",
       "2       S&P 500 ETF Vanguard       2.63  272.87          0.97   \n",
       "3      Alibaba Group Holding       4.13  172.91          2.41   \n",
       "4  JP Morgan Chase & Company       3.55  118.85          3.05   \n",
       "\n",
       "             serverTimestamp  symbol  tick             tradeTimestamp  \\\n",
       "0  2019-10-15T00:00:00-05:00    AAPL        2019-10-15T00:00:00-05:00   \n",
       "1  2019-10-15T00:00:00-05:00    TSLA        2019-10-15T00:00:00-05:00   \n",
       "2  2019-10-15T00:00:00-05:00     VOO        2019-10-15T00:00:00-05:00   \n",
       "3  2019-10-15T00:00:00-05:00    BABA        2019-10-15T00:00:00-05:00   \n",
       "4  2019-10-15T00:00:00-05:00     JPM        2019-10-15T00:00:00-05:00   \n",
       "\n",
       "  unitCode    volume  \n",
       "0        2  22997200  \n",
       "1        2   6474700  \n",
       "2        2   1791700  \n",
       "3        2  13803100  \n",
       "4        2  30519200  \n",
       "\n",
       "[5 rows x 23 columns]>"
      ]
     },
     "execution_count": 15,
     "metadata": {},
     "output_type": "execute_result"
    }
   ],
   "source": [
    "\n",
    "\n",
    "#list_index=response_json[\"results\"]\n",
    "index_price = db.index_price.find()\n",
    "data = pd.DataFrame(list(index_price))\n",
    " \n",
    "\n",
    "    \n",
    "dict_data = data.to_dict\n",
    "dict_data"
   ]
  },
  {
   "cell_type": "code",
   "execution_count": null,
   "metadata": {},
   "outputs": [],
   "source": []
  },
  {
   "cell_type": "code",
   "execution_count": null,
   "metadata": {},
   "outputs": [],
   "source": []
  }
 ],
 "metadata": {
  "kernelspec": {
   "display_name": "Python 3",
   "language": "python",
   "name": "python3"
  },
  "language_info": {
   "codemirror_mode": {
    "name": "ipython",
    "version": 3
   },
   "file_extension": ".py",
   "mimetype": "text/x-python",
   "name": "python",
   "nbconvert_exporter": "python",
   "pygments_lexer": "ipython3",
   "version": "3.7.3"
  },
  "varInspector": {
   "cols": {
    "lenName": 16,
    "lenType": 16,
    "lenVar": 40
   },
   "kernels_config": {
    "python": {
     "delete_cmd_postfix": "",
     "delete_cmd_prefix": "del ",
     "library": "var_list.py",
     "varRefreshCmd": "print(var_dic_list())"
    },
    "r": {
     "delete_cmd_postfix": ") ",
     "delete_cmd_prefix": "rm(",
     "library": "var_list.r",
     "varRefreshCmd": "cat(var_dic_list()) "
    }
   },
   "types_to_exclude": [
    "module",
    "function",
    "builtin_function_or_method",
    "instance",
    "_Feature"
   ],
   "window_display": false
  }
 },
 "nbformat": 4,
 "nbformat_minor": 2
}
