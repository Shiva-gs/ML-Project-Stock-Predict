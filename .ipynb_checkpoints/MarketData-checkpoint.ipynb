{
 "cells": [
  {
   "cell_type": "code",
   "execution_count": 2,
   "metadata": {},
   "outputs": [
    {
     "name": "stdout",
     "output_type": "stream",
     "text": [
      "Collecting pymongo\n",
      "  Downloading https://files.pythonhosted.org/packages/f8/dd/922ba69a1bafe2e2cfa46c06483cedab01ea7b76c7c3109ba62f430b0dcc/pymongo-3.10.0-cp37-cp37m-win_amd64.whl (354kB)\n",
      "Installing collected packages: pymongo\n",
      "Successfully installed pymongo-3.10.0\n"
     ]
    }
   ],
   "source": [
    "!pip install pymongo\n",
    "# Dependencies\n",
    "import requests\n",
    "import json\n",
    "import pandas as pd\n",
    "import pymongo"
   ]
  },
  {
   "cell_type": "code",
   "execution_count": 3,
   "metadata": {},
   "outputs": [],
   "source": [
    "# The default port used by MongoDB is 27017\n",
    "# https://docs.mongodb.com/manual/reference/default-mongodb-port/\n",
    "conn = 'mongodb://localhost:27017'\n",
    "client = pymongo.MongoClient(conn)\n",
    "db = client.marketdata"
   ]
  },
  {
   "cell_type": "code",
   "execution_count": 4,
   "metadata": {},
   "outputs": [],
   "source": [
    "# Portfolio list and get the string list\n",
    "# read from UI and insert into mongoDB \n",
    "symbol_dict = [{'symbol':'AAPL','active':'Y'},\n",
    "               {'symbol':'TSLA','active':'Y'},\n",
    "               {'symbol':'VOO','active':'Y'},\n",
    "               {'symbol':'BABA','active':'Y'},\n",
    "               {'symbol':'JPM','active':'Y'}]"
   ]
  },
  {
   "cell_type": "code",
   "execution_count": 5,
   "metadata": {},
   "outputs": [
    {
     "name": "stderr",
     "output_type": "stream",
     "text": [
      "C:\\Users\\gecha\\Anaconda3\\lib\\site-packages\\ipykernel_launcher.py:4: DeprecationWarning: count is deprecated. Use estimated_document_count or count_documents instead. Please note that $where must be replaced by $expr, $near must be replaced by $geoWithin with $center, and $nearSphere must be replaced by $geoWithin with $centerSphere\n",
      "  after removing the cwd from sys.path.\n"
     ]
    },
    {
     "ename": "ServerSelectionTimeoutError",
     "evalue": "localhost:27017: [WinError 10061] No connection could be made because the target machine actively refused it",
     "output_type": "error",
     "traceback": [
      "\u001b[1;31m---------------------------------------------------------------------------\u001b[0m",
      "\u001b[1;31mServerSelectionTimeoutError\u001b[0m               Traceback (most recent call last)",
      "\u001b[1;32m<ipython-input-5-f7f6f1445431>\u001b[0m in \u001b[0;36m<module>\u001b[1;34m\u001b[0m\n\u001b[0;32m      2\u001b[0m \u001b[1;31m# Read existing data from MongoDB\u001b[0m\u001b[1;33m\u001b[0m\u001b[1;33m\u001b[0m\u001b[1;33m\u001b[0m\u001b[0m\n\u001b[0;32m      3\u001b[0m \u001b[0mportfolio\u001b[0m \u001b[1;33m=\u001b[0m \u001b[0mdb\u001b[0m\u001b[1;33m.\u001b[0m\u001b[0mportfolio\u001b[0m\u001b[1;33m.\u001b[0m\u001b[0mfind\u001b[0m\u001b[1;33m(\u001b[0m\u001b[1;33m)\u001b[0m\u001b[1;33m\u001b[0m\u001b[1;33m\u001b[0m\u001b[0m\n\u001b[1;32m----> 4\u001b[1;33m \u001b[0mis_data_found\u001b[0m\u001b[1;33m=\u001b[0m\u001b[0mdb\u001b[0m\u001b[1;33m.\u001b[0m\u001b[0mportfolio\u001b[0m\u001b[1;33m.\u001b[0m\u001b[0mcount\u001b[0m\u001b[1;33m(\u001b[0m\u001b[1;33m)\u001b[0m\u001b[1;33m\u001b[0m\u001b[1;33m\u001b[0m\u001b[0m\n\u001b[0m\u001b[0;32m      5\u001b[0m \u001b[1;33m\u001b[0m\u001b[0m\n\u001b[0;32m      6\u001b[0m \u001b[1;33m\u001b[0m\u001b[0m\n",
      "\u001b[1;32m~\\Anaconda3\\lib\\site-packages\\pymongo\\collection.py\u001b[0m in \u001b[0;36mcount\u001b[1;34m(self, filter, session, **kwargs)\u001b[0m\n\u001b[0;32m   1798\u001b[0m         \u001b[0mcollation\u001b[0m \u001b[1;33m=\u001b[0m \u001b[0mvalidate_collation_or_none\u001b[0m\u001b[1;33m(\u001b[0m\u001b[0mkwargs\u001b[0m\u001b[1;33m.\u001b[0m\u001b[0mpop\u001b[0m\u001b[1;33m(\u001b[0m\u001b[1;34m'collation'\u001b[0m\u001b[1;33m,\u001b[0m \u001b[1;32mNone\u001b[0m\u001b[1;33m)\u001b[0m\u001b[1;33m)\u001b[0m\u001b[1;33m\u001b[0m\u001b[1;33m\u001b[0m\u001b[0m\n\u001b[0;32m   1799\u001b[0m         \u001b[0mcmd\u001b[0m\u001b[1;33m.\u001b[0m\u001b[0mupdate\u001b[0m\u001b[1;33m(\u001b[0m\u001b[0mkwargs\u001b[0m\u001b[1;33m)\u001b[0m\u001b[1;33m\u001b[0m\u001b[1;33m\u001b[0m\u001b[0m\n\u001b[1;32m-> 1800\u001b[1;33m         \u001b[1;32mreturn\u001b[0m \u001b[0mself\u001b[0m\u001b[1;33m.\u001b[0m\u001b[0m_count\u001b[0m\u001b[1;33m(\u001b[0m\u001b[0mcmd\u001b[0m\u001b[1;33m,\u001b[0m \u001b[0mcollation\u001b[0m\u001b[1;33m,\u001b[0m \u001b[0msession\u001b[0m\u001b[1;33m)\u001b[0m\u001b[1;33m\u001b[0m\u001b[1;33m\u001b[0m\u001b[0m\n\u001b[0m\u001b[0;32m   1801\u001b[0m \u001b[1;33m\u001b[0m\u001b[0m\n\u001b[0;32m   1802\u001b[0m     \u001b[1;32mdef\u001b[0m \u001b[0mcreate_indexes\u001b[0m\u001b[1;33m(\u001b[0m\u001b[0mself\u001b[0m\u001b[1;33m,\u001b[0m \u001b[0mindexes\u001b[0m\u001b[1;33m,\u001b[0m \u001b[0msession\u001b[0m\u001b[1;33m=\u001b[0m\u001b[1;32mNone\u001b[0m\u001b[1;33m,\u001b[0m \u001b[1;33m**\u001b[0m\u001b[0mkwargs\u001b[0m\u001b[1;33m)\u001b[0m\u001b[1;33m:\u001b[0m\u001b[1;33m\u001b[0m\u001b[1;33m\u001b[0m\u001b[0m\n",
      "\u001b[1;32m~\\Anaconda3\\lib\\site-packages\\pymongo\\collection.py\u001b[0m in \u001b[0;36m_count\u001b[1;34m(self, cmd, collation, session)\u001b[0m\n\u001b[0;32m   1598\u001b[0m \u001b[1;33m\u001b[0m\u001b[0m\n\u001b[0;32m   1599\u001b[0m         return self.__database.client._retryable_read(\n\u001b[1;32m-> 1600\u001b[1;33m             _cmd, self._read_preference_for(session), session)\n\u001b[0m\u001b[0;32m   1601\u001b[0m \u001b[1;33m\u001b[0m\u001b[0m\n\u001b[0;32m   1602\u001b[0m     def _aggregate_one_result(\n",
      "\u001b[1;32m~\\Anaconda3\\lib\\site-packages\\pymongo\\mongo_client.py\u001b[0m in \u001b[0;36m_retryable_read\u001b[1;34m(self, func, read_pref, session, address, retryable, exhaust)\u001b[0m\n\u001b[0;32m   1452\u001b[0m             \u001b[1;32mtry\u001b[0m\u001b[1;33m:\u001b[0m\u001b[1;33m\u001b[0m\u001b[1;33m\u001b[0m\u001b[0m\n\u001b[0;32m   1453\u001b[0m                 server = self._select_server(\n\u001b[1;32m-> 1454\u001b[1;33m                     read_pref, session, address=address)\n\u001b[0m\u001b[0;32m   1455\u001b[0m                 \u001b[1;32mif\u001b[0m \u001b[1;32mnot\u001b[0m \u001b[0mserver\u001b[0m\u001b[1;33m.\u001b[0m\u001b[0mdescription\u001b[0m\u001b[1;33m.\u001b[0m\u001b[0mretryable_reads_supported\u001b[0m\u001b[1;33m:\u001b[0m\u001b[1;33m\u001b[0m\u001b[1;33m\u001b[0m\u001b[0m\n\u001b[0;32m   1456\u001b[0m                     \u001b[0mretryable\u001b[0m \u001b[1;33m=\u001b[0m \u001b[1;32mFalse\u001b[0m\u001b[1;33m\u001b[0m\u001b[1;33m\u001b[0m\u001b[0m\n",
      "\u001b[1;32m~\\Anaconda3\\lib\\site-packages\\pymongo\\mongo_client.py\u001b[0m in \u001b[0;36m_select_server\u001b[1;34m(self, server_selector, session, address)\u001b[0m\n\u001b[0;32m   1251\u001b[0m                                         % address)\n\u001b[0;32m   1252\u001b[0m             \u001b[1;32melse\u001b[0m\u001b[1;33m:\u001b[0m\u001b[1;33m\u001b[0m\u001b[1;33m\u001b[0m\u001b[0m\n\u001b[1;32m-> 1253\u001b[1;33m                 \u001b[0mserver\u001b[0m \u001b[1;33m=\u001b[0m \u001b[0mtopology\u001b[0m\u001b[1;33m.\u001b[0m\u001b[0mselect_server\u001b[0m\u001b[1;33m(\u001b[0m\u001b[0mserver_selector\u001b[0m\u001b[1;33m)\u001b[0m\u001b[1;33m\u001b[0m\u001b[1;33m\u001b[0m\u001b[0m\n\u001b[0m\u001b[0;32m   1254\u001b[0m                 \u001b[1;31m# Pin this session to the selected server if it's performing a\u001b[0m\u001b[1;33m\u001b[0m\u001b[1;33m\u001b[0m\u001b[1;33m\u001b[0m\u001b[0m\n\u001b[0;32m   1255\u001b[0m                 \u001b[1;31m# sharded transaction.\u001b[0m\u001b[1;33m\u001b[0m\u001b[1;33m\u001b[0m\u001b[1;33m\u001b[0m\u001b[0m\n",
      "\u001b[1;32m~\\Anaconda3\\lib\\site-packages\\pymongo\\topology.py\u001b[0m in \u001b[0;36mselect_server\u001b[1;34m(self, selector, server_selection_timeout, address)\u001b[0m\n\u001b[0;32m    233\u001b[0m         return random.choice(self.select_servers(selector,\n\u001b[0;32m    234\u001b[0m                                                  \u001b[0mserver_selection_timeout\u001b[0m\u001b[1;33m,\u001b[0m\u001b[1;33m\u001b[0m\u001b[1;33m\u001b[0m\u001b[0m\n\u001b[1;32m--> 235\u001b[1;33m                                                  address))\n\u001b[0m\u001b[0;32m    236\u001b[0m \u001b[1;33m\u001b[0m\u001b[0m\n\u001b[0;32m    237\u001b[0m     def select_server_by_address(self, address,\n",
      "\u001b[1;32m~\\Anaconda3\\lib\\site-packages\\pymongo\\topology.py\u001b[0m in \u001b[0;36mselect_servers\u001b[1;34m(self, selector, server_selection_timeout, address)\u001b[0m\n\u001b[0;32m    191\u001b[0m         \u001b[1;32mwith\u001b[0m \u001b[0mself\u001b[0m\u001b[1;33m.\u001b[0m\u001b[0m_lock\u001b[0m\u001b[1;33m:\u001b[0m\u001b[1;33m\u001b[0m\u001b[1;33m\u001b[0m\u001b[0m\n\u001b[0;32m    192\u001b[0m             server_descriptions = self._select_servers_loop(\n\u001b[1;32m--> 193\u001b[1;33m                 selector, server_timeout, address)\n\u001b[0m\u001b[0;32m    194\u001b[0m \u001b[1;33m\u001b[0m\u001b[0m\n\u001b[0;32m    195\u001b[0m             return [self.get_server_by_address(sd.address)\n",
      "\u001b[1;32m~\\Anaconda3\\lib\\site-packages\\pymongo\\topology.py\u001b[0m in \u001b[0;36m_select_servers_loop\u001b[1;34m(self, selector, timeout, address)\u001b[0m\n\u001b[0;32m    207\u001b[0m             \u001b[1;32mif\u001b[0m \u001b[0mtimeout\u001b[0m \u001b[1;33m==\u001b[0m \u001b[1;36m0\u001b[0m \u001b[1;32mor\u001b[0m \u001b[0mnow\u001b[0m \u001b[1;33m>\u001b[0m \u001b[0mend_time\u001b[0m\u001b[1;33m:\u001b[0m\u001b[1;33m\u001b[0m\u001b[1;33m\u001b[0m\u001b[0m\n\u001b[0;32m    208\u001b[0m                 raise ServerSelectionTimeoutError(\n\u001b[1;32m--> 209\u001b[1;33m                     self._error_message(selector))\n\u001b[0m\u001b[0;32m    210\u001b[0m \u001b[1;33m\u001b[0m\u001b[0m\n\u001b[0;32m    211\u001b[0m             \u001b[0mself\u001b[0m\u001b[1;33m.\u001b[0m\u001b[0m_ensure_opened\u001b[0m\u001b[1;33m(\u001b[0m\u001b[1;33m)\u001b[0m\u001b[1;33m\u001b[0m\u001b[1;33m\u001b[0m\u001b[0m\n",
      "\u001b[1;31mServerSelectionTimeoutError\u001b[0m: localhost:27017: [WinError 10061] No connection could be made because the target machine actively refused it"
     ]
    }
   ],
   "source": [
    "# Insert a document into the 'portfolio' collection\n",
    "# Read existing data from MongoDB\n",
    "portfolio = db.portfolio.find()\n",
    "is_data_found=db.portfolio.count()\n",
    "\n",
    "\n",
    "data = pd.DataFrame(list(portfolio))\n",
    "data\n",
    "print(is_data_found)\n",
    "\n",
    "# from new list above\n",
    "for i in range(len(symbol_dict)):\n",
    "    #print(list_index[i]['symbol'])\n",
    "    cnt=0\n",
    "    # avoid duplicate check if symbol is already active in DB\n",
    "    if is_data_found !=0:\n",
    "        cnt=data[(data['active']==symbol_dict[i]['active']) & (data['symbol']==symbol_dict[i]['symbol'])]['symbol'].count()\n",
    "    else:\n",
    "        # first record\n",
    "        cnt=1\n",
    "        \n",
    "    if (cnt!=0 | is_data_found==0):\n",
    "        db.portfolio.insert_one(symbol_dict[i])"
   ]
  },
  {
   "cell_type": "code",
   "execution_count": null,
   "metadata": {},
   "outputs": [],
   "source": [
    "symbol_df = pd.DataFrame.from_dict(db.portfolio.find())\n",
    "#symbol_df=symbol_df.append({'symbol':'TSLA','active':'Y'},ignore_index=TRUE)\n",
    "active_symbol= list(symbol_df[symbol_df['active']=='Y']['symbol'])  \n",
    "symbol_str=''\n",
    "for i in range(len(active_symbol)):\n",
    "    if i == len(active_symbol)-1:\n",
    "        symbol_str = symbol_str + active_symbol[i] \n",
    "    else:\n",
    "        symbol_str = symbol_str + active_symbol[i] + '%2C'\n",
    "\n",
    "symbol_str"
   ]
  },
  {
   "cell_type": "code",
   "execution_count": null,
   "metadata": {},
   "outputs": [],
   "source": [
    "# URL for GET requests to retrieve symbol data\n",
    "# append the active symbol from above list\n",
    "url = \"https://marketdata.websol.barchart.com/getQuote.json?apikey=0b6bf035918d6d5e9f4b803bded9a20f&fields=fiftyTwoWkHigh%2CfiftyTwoWkHighDate%2CfiftyTwoWkLow%2CfiftyTwoWkLowDate%2Ctick&symbols=\"+symbol_str\n",
    "\n"
   ]
  },
  {
   "cell_type": "code",
   "execution_count": null,
   "metadata": {},
   "outputs": [],
   "source": [
    "# Pretty print JSON for all launchpads\n",
    "response = requests.get(url)\n",
    "response_json = response.json() "
   ]
  },
  {
   "cell_type": "code",
   "execution_count": null,
   "metadata": {},
   "outputs": [],
   "source": [
    "# rearrange dataset\n",
    "#df[['symbol','close']]\n",
    "#new_df = df[['symbol','name','open','lastPrice','netChange','tradeTimestamp',\n",
    "#             'fiftyTwoWkHigh','fiftyTwoWkHighDate','fiftyTwoWkLow','fiftyTwoWkLowDate','serverTimestamp']]\n",
    "#new_df"
   ]
  },
  {
   "cell_type": "code",
   "execution_count": null,
   "metadata": {
    "scrolled": true
   },
   "outputs": [],
   "source": [
    "# using db = client.marketdata\n",
    "\n",
    "# Query all marketdata\n",
    "# Here, get the daily index price to dataframe\n",
    "index_price = db.index_price.find()\n",
    "is_data_found=db.index_price.count()\n",
    "\n",
    "#list_index=response_json[\"results\"] \n",
    "if is_data_found !=0:\n",
    "    data = pd.DataFrame(list(index_price))\n",
    "    data\n",
    "print(is_data_found)\n",
    "data"
   ]
  },
  {
   "cell_type": "code",
   "execution_count": null,
   "metadata": {},
   "outputs": [],
   "source": []
  },
  {
   "cell_type": "code",
   "execution_count": null,
   "metadata": {},
   "outputs": [],
   "source": [
    "# Iterate through each indexprice in the collection\n",
    "# insert into DB for index price\n",
    "\n",
    "# Insert a document into the 'indexprice' collection\n",
    "list_index=response_json[\"results\"] \n",
    "#len(list_index)\n",
    "for i in range(len(list_index)):\n",
    "    #print(list_index[i]['symbol'])\n",
    "    cnt=0\n",
    "    #print(list_index[i]['serverTimestamp'])\n",
    "    #print(data['tradeTimestamp']==list_index[i]['tradeTimestamp'])\n",
    "    # avoid duplicate\n",
    "    #if is_data_found !=0:\n",
    "    #    cnt=data[(data['tradeTimestamp']==list_index[i]['tradeTimestamp']) & (data['symbol']==list_index[i]['symbol'])]['symbol'].count()\n",
    "        # if cnt is zero then its a new record\n",
    "        #print(cnt)\n",
    "    #    if (cnt == 0):\n",
    "    #       cnt=1 \n",
    "    #else:\n",
    "        # first record\n",
    "    #    cnt=1\n",
    "        \n",
    "    #if record exists ignore the exception\n",
    "    if (cnt!=0) | (is_data_found==0):\n",
    "        try:\n",
    "            db.index_price.insert_one(list_index[i])\n",
    "        except Exception:\n",
    "            pass\n",
    "    \n",
    "print(\"Total number of records in index_list in database is:\", db.index_price.count())\n",
    "        "
   ]
  },
  {
   "cell_type": "code",
   "execution_count": null,
   "metadata": {},
   "outputs": [],
   "source": [
    "# Iterate through each symbol in the collection, uncomment the code to see the results\n",
    "#index_price = db.index_price.find()\n",
    "#for ind in index_price:\n",
    "#len(list_index)\n",
    "#print(is_data_found)\n",
    "#list_index[0]['serverTimestamp']\n",
    "#    print(ind)\n",
    "#for i in range(len(index_price)):\n",
    "#    print(index_price[i])\n",
    "\n",
    " "
   ]
  },
  {
   "cell_type": "code",
   "execution_count": null,
   "metadata": {},
   "outputs": [],
   "source": [
    "# TO populate the history record read through individual symbol and gather the data in list\n",
    "symbol_df = pd.DataFrame.from_dict(db.portfolio.find()) \n",
    "active_symbol=[]\n",
    "active_symbol= list(symbol_df[symbol_df['active']=='Y']['symbol'])  \n",
    "#symbol_str=''\n",
    "\n",
    "hist_list_index=[]\n",
    "hist_index=[]\n",
    "\n",
    "hist_url= \"https://marketdata.websol.barchart.com/getHistory.json?apikey=0b6bf035918d6d5e9f4b803bded9a20f&type=minutes&startDate=20190801&endDate=20191011&maxRecords=100&interval=60&order=asc&sessionFilter=EFK&splits=true&dividends=true&volume=sum&nearby=1&jerq=true&exchange=NYSE%2CAMEX%2CNASDAQ&backAdjust=false&daysToExpiration=1&contractRoll=expiration&symbol=\"\n",
    "\n",
    "for i in range(len(active_symbol)):\n",
    "    hist_response = requests.get(hist_url+active_symbol[i])\n",
    "    #print(hist_url+active_symbol[i])\n",
    "    hist_response_json = hist_response.json()\n",
    "    hist_index = hist_response_json[\"results\"]\n",
    "    for i in range(len(hist_index)):\n",
    "        hist_list_index.append(hist_index[i])\n",
    "\n",
    "\n",
    "\n",
    "#len(hist_list_index)\n",
    "#len(hist_list_index[0])\n",
    "\n",
    "#for i in range(len(hist_list_index)):\n",
    "#    print(hist_list_index[i])"
   ]
  },
  {
   "cell_type": "code",
   "execution_count": null,
   "metadata": {},
   "outputs": [],
   "source": [
    "# Iterate through each history indexprice in the collection\n",
    "# insert into DB for history ndex price\n",
    "\n",
    "# Insert a document into the 'indexprice' collection\n",
    "# Query all marketdata\n",
    "# Here, get the daily index price to dataframe\n",
    "index_price = db.index_price_hist.find()\n",
    "is_data_found=db.index_price_hist.count()\n",
    "\n",
    " \n",
    "data = pd.DataFrame(list(index_price))\n",
    "data\n",
    "print(is_data_found)\n",
    "\n",
    "# use hist_list_index from above\n",
    "for i in range(len(hist_list_index)):\n",
    "    #print(list_index[i])\n",
    "    #db.index_price_hist.insert_one(hist_list_index[i])\n",
    "        #print(list_index[i]['symbol'])\n",
    "    #cnt=0\n",
    "    # avoid duplicate\n",
    "    # check if the symbol and systemTimestamp record is found\n",
    "    #if is_data_found !=0:\n",
    "    #    cnt=data[(data['timestamp']==hist_list_index[i]['timestamp']) & (data['symbol']==hist_list_index[i]['symbol'])]['symbol'].count()\n",
    "    # else:\n",
    "        # first record\n",
    "        # cnt=1\n",
    "        \n",
    "    #if record exists ignore the exception\n",
    "    \n",
    "    try:\n",
    "        db.index_price_hist.insert_one(hist_list_index[i])\n",
    "    except Exception:\n",
    "        pass\n",
    "        \n",
    "    #if (cnt!=0 | is_data_found==0):\n",
    "        #db.index_price_hist.insert_one(hist_list_index[i])"
   ]
  },
  {
   "cell_type": "code",
   "execution_count": null,
   "metadata": {},
   "outputs": [],
   "source": [
    "# Iterate through each symbol in the collection, uncomment the code to see the results\n",
    "#index_price = db.index_price.find()\n",
    "#index_price = db.index_price_hist.find()\n",
    "#for ind in index_price:\n",
    "#    print(ind)\n",
    "db.index_price_hist.count()"
   ]
  },
  {
   "cell_type": "code",
   "execution_count": null,
   "metadata": {},
   "outputs": [],
   "source": [
    "\n",
    "\n",
    "#list_index=response_json[\"results\"]\n",
    "index_price = db.index_price.find()\n",
    "data = pd.DataFrame(list(index_price))\n",
    " \n",
    "\n",
    "    \n",
    "dict_data = data.to_dict\n",
    "dict_data"
   ]
  },
  {
   "cell_type": "code",
   "execution_count": null,
   "metadata": {},
   "outputs": [],
   "source": []
  },
  {
   "cell_type": "code",
   "execution_count": null,
   "metadata": {},
   "outputs": [],
   "source": []
  }
 ],
 "metadata": {
  "kernelspec": {
   "display_name": "Python 3",
   "language": "python",
   "name": "python3"
  },
  "language_info": {
   "codemirror_mode": {
    "name": "ipython",
    "version": 3
   },
   "file_extension": ".py",
   "mimetype": "text/x-python",
   "name": "python",
   "nbconvert_exporter": "python",
   "pygments_lexer": "ipython3",
   "version": "3.7.4"
  },
  "varInspector": {
   "cols": {
    "lenName": 16,
    "lenType": 16,
    "lenVar": 40
   },
   "kernels_config": {
    "python": {
     "delete_cmd_postfix": "",
     "delete_cmd_prefix": "del ",
     "library": "var_list.py",
     "varRefreshCmd": "print(var_dic_list())"
    },
    "r": {
     "delete_cmd_postfix": ") ",
     "delete_cmd_prefix": "rm(",
     "library": "var_list.r",
     "varRefreshCmd": "cat(var_dic_list()) "
    }
   },
   "types_to_exclude": [
    "module",
    "function",
    "builtin_function_or_method",
    "instance",
    "_Feature"
   ],
   "window_display": false
  }
 },
 "nbformat": 4,
 "nbformat_minor": 2
}
